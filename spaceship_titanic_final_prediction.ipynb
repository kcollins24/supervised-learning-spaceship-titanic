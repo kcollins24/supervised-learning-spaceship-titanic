{
 "cells": [
  {
   "cell_type": "code",
   "execution_count": 21,
   "id": "b41f7e8e",
   "metadata": {},
   "outputs": [],
   "source": [
    "import os\n",
    "import numpy as np\n",
    "import pandas as pd\n",
    "import seaborn as sns\n",
    "import matplotlib.pylab as plt\n",
    "\n",
    "from sklearn.preprocessing import StandardScaler\n",
    "from sklearn.preprocessing import MinMaxScaler\n",
    "\n",
    "from scipy.stats import norm\n",
    "from scipy import stats"
   ]
  },
  {
   "cell_type": "code",
   "execution_count": 22,
   "id": "757fd301",
   "metadata": {},
   "outputs": [],
   "source": [
    "training_data=pd.read_csv('train.csv')\n",
    "test_data=pd.read_csv('test.csv')\n",
    "sample_submission=open('sample_submission.csv')"
   ]
  },
  {
   "cell_type": "code",
   "execution_count": 24,
   "id": "e3313ad4",
   "metadata": {},
   "outputs": [
    {
     "name": "stdout",
     "output_type": "stream",
     "text": [
      "4277\n"
     ]
    }
   ],
   "source": [
    "passenger_ids=[]\n",
    "for pos in test_data.index:\n",
    "    passenger_ids.append(test_data['PassengerId'][pos])\n",
    "    \n",
    "print(len(passenger_ids))"
   ]
  },
  {
   "cell_type": "code",
   "execution_count": 25,
   "id": "0891ed65",
   "metadata": {},
   "outputs": [],
   "source": [
    "#fill null values\n",
    "age_median=training_data['Age'].median()\n",
    "training_data['Age'].fillna(age_median,inplace=True)\n",
    "test_data['Age'].fillna(age_median,inplace=True)\n",
    "\n",
    "fill_with_most_frequent=['CryoSleep','ShoppingMall','VIP','HomePlanet','VRDeck','Spa','FoodCourt','Destination','RoomService']\n",
    "for category in fill_with_most_frequent:\n",
    "    training_data[category].fillna(training_data[category].mode()[0],inplace=True)\n",
    "    test_data[category].fillna(training_data[category].mode()[0],inplace=True)\n",
    "    \n",
    "training_data['Cabin'].fillna('Un/-1/Un',inplace=True) #filler just meaning unknown cabin, format is deck/num/side\n",
    "test_data['Cabin'].fillna('Un/-1/Un',inplace=True)\n",
    "\n",
    "training_data.drop('Name', axis=1, inplace=True)\n",
    "test_data.drop('Name',axis=1,inplace=True)\n",
    "training_data.drop('PassengerId',axis=1,inplace=True)\n",
    "test_data.drop('PassengerId',axis=1,inplace=True)"
   ]
  },
  {
   "cell_type": "code",
   "execution_count": 26,
   "id": "16fae008",
   "metadata": {},
   "outputs": [],
   "source": [
    "deck_values,deck_values_t=[],[]\n",
    "cabin_numbers,cabin_numbers_t=[],[]\n",
    "side_values,side_values_t=[],[]\n",
    "#separate out deck and side from cabin numbers\n",
    "for pos in training_data.index:\n",
    "    cabin_number=training_data['Cabin'][pos]\n",
    "    cabin_number=cabin_number.split('/')\n",
    "    deck_values.append(cabin_number[0])\n",
    "    cabin_numbers.append(int(cabin_number[1]))\n",
    "    side_values.append(cabin_number[2])\n",
    "    \n",
    "for pos in test_data.index:\n",
    "    cabin_number=test_data['Cabin'][pos]\n",
    "    cabin_number=cabin_number.split('/')\n",
    "    deck_values_t.append(cabin_number[0])\n",
    "    cabin_numbers_t.append(int(cabin_number[1]))\n",
    "    side_values_t.append(cabin_number[2])\n",
    "    \n",
    "training_data.drop('Cabin',axis=1,inplace=True)\n",
    "test_data.drop('Cabin',axis=1,inplace=True)\n",
    "\n",
    "\n",
    "training_data['Deck']=deck_values\n",
    "training_data['CabinNumber']=cabin_numbers\n",
    "training_data['Side']=side_values\n",
    "test_data['Deck']=deck_values_t\n",
    "test_data['CabinNumber']=cabin_numbers_t\n",
    "test_data['Side']=side_values_t"
   ]
  },
  {
   "cell_type": "code",
   "execution_count": 27,
   "id": "271f5b1f",
   "metadata": {},
   "outputs": [],
   "source": [
    "#replacing values with numerical representations\n",
    "training_data['Transported']=training_data.Transported.replace('False',0).replace('True',1).astype(np.int)\n",
    "test_data['Transported']=training_data.Transported.replace('False',0).replace('True',1).astype(np.int)\n",
    "training_data['CryoSleep']=training_data.CryoSleep.replace('False',0).replace('True',1).astype(np.int)\n",
    "test_data['CryoSleep']=training_data.CryoSleep.replace('False',0).replace('True',1).astype(np.int)\n",
    "training_data['VIP']=training_data.VIP.replace('False',0).replace('True',1).astype(np.int)\n",
    "test_data['VIP']=training_data.VIP.replace('False',0).replace('True',1).astype(np.int)"
   ]
  },
  {
   "cell_type": "code",
   "execution_count": 28,
   "id": "c6083857",
   "metadata": {},
   "outputs": [],
   "source": [
    "#one hot encoding\n",
    "one_hot_encode_cols=training_data.dtypes[training_data.dtypes==np.object]\n",
    "one_hot_encode_cols=one_hot_encode_cols.index.tolist()\n",
    "training_data=pd.get_dummies(training_data,columns=one_hot_encode_cols,drop_first=True)\n",
    "\n",
    "one_hot_encode_cols=test_data.dtypes[test_data.dtypes==np.object]\n",
    "one_hot_encode_cols=one_hot_encode_cols.index.tolist()\n",
    "test_data=pd.get_dummies(test_data,columns=one_hot_encode_cols,drop_first=True)"
   ]
  },
  {
   "cell_type": "code",
   "execution_count": 29,
   "id": "a5fcf8ec",
   "metadata": {},
   "outputs": [],
   "source": [
    "feature_cols=[x for x in training_data.columns if x != 'Transported']\n",
    "#train_idx,test_idx=training_data[feature_cols],training_data['Transported']\n",
    "\n",
    "#create datasets\n",
    "x_train = training_data[feature_cols]\n",
    "y_train = training_data['Transported']\n",
    "x_test = test_data[feature_cols]"
   ]
  },
  {
   "cell_type": "code",
   "execution_count": 30,
   "id": "6116aa7a",
   "metadata": {},
   "outputs": [],
   "source": [
    "import warnings\n",
    "warnings.filterwarnings(\"ignore\",category=UserWarning)\n",
    "warnings.filterwarnings(\"ignore\",category=RuntimeWarning)\n",
    "\n",
    "from sklearn.ensemble import RandomForestClassifier\n",
    "RF=RandomForestClassifier(oob_score=True,random_state=42,warm_start=True,n_jobs=-1,n_estimators=200)\n",
    "RF.fit(x_train,y_train)\n",
    "y_pred=RF.predict(x_test)"
   ]
  },
  {
   "cell_type": "code",
   "execution_count": 38,
   "id": "190e5b62",
   "metadata": {},
   "outputs": [],
   "source": [
    "output_file=open('kaggle_final_submission.csv','w')\n",
    "output_file.write('PassengerId,Transported\\n')\n",
    "\n",
    "for pos in range(len(passenger_ids)):\n",
    "    outcome='False'\n",
    "    if y_pred[pos]==1:\n",
    "        outcome='True'\n",
    "    output_file.write(passenger_ids[pos]+','+outcome+'\\n')\n",
    "    #print(pos)"
   ]
  },
  {
   "cell_type": "code",
   "execution_count": null,
   "id": "5b2679f9",
   "metadata": {},
   "outputs": [],
   "source": [
    "#final score according to kaggle is 0.76993 for accuracy"
   ]
  }
 ],
 "metadata": {
  "kernelspec": {
   "display_name": "Python 3",
   "language": "python",
   "name": "python3"
  },
  "language_info": {
   "codemirror_mode": {
    "name": "ipython",
    "version": 3
   },
   "file_extension": ".py",
   "mimetype": "text/x-python",
   "name": "python",
   "nbconvert_exporter": "python",
   "pygments_lexer": "ipython3",
   "version": "3.6.8"
  }
 },
 "nbformat": 4,
 "nbformat_minor": 5
}
